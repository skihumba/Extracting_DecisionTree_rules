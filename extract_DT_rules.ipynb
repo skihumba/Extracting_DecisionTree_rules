{
 "cells": [
  {
   "cell_type": "markdown",
   "metadata": {},
   "source": [
    "## Extracting rules from a decision tree model"
   ]
  },
  {
   "cell_type": "code",
   "execution_count": 1,
   "metadata": {},
   "outputs": [],
   "source": [
    "#import libraries\n",
    "import numpy as np\n",
    "from sklearn.model_selection import train_test_split\n",
    "from sklearn.datasets import load_iris\n",
    "from sklearn.tree import DecisionTreeClassifier"
   ]
  },
  {
   "cell_type": "code",
   "execution_count": 2,
   "metadata": {},
   "outputs": [],
   "source": [
    "# load and split data\n",
    "iris_data = load_iris()\n",
    "X = iris_data.data\n",
    "y = iris_data.target\n",
    "X_train, X_test, y_train, y_test = train_test_split(X, y, random_state=0)"
   ]
  },
  {
   "cell_type": "code",
   "execution_count": 3,
   "metadata": {},
   "outputs": [
    {
     "data": {
      "text/plain": [
       "DecisionTreeClassifier(class_weight=None, criterion='gini', max_depth=None,\n",
       "            max_features=None, max_leaf_nodes=3, min_impurity_decrease=0.0,\n",
       "            min_impurity_split=None, min_samples_leaf=1,\n",
       "            min_samples_split=2, min_weight_fraction_leaf=0.0,\n",
       "            presort=False, random_state=0, splitter='best')"
      ]
     },
     "execution_count": 3,
     "metadata": {},
     "output_type": "execute_result"
    }
   ],
   "source": [
    "#instatntiate and fit  a Decision Tree model\n",
    "model = DecisionTreeClassifier(max_leaf_nodes=3, random_state=0)\n",
    "model.fit(X_train, y_train)"
   ]
  },
  {
   "cell_type": "code",
   "execution_count": 4,
   "metadata": {},
   "outputs": [],
   "source": [
    "from sklearn.tree import _tree\n",
    "\n",
    "def find_rules(tree, features):\n",
    "    \"\"\"\n",
    "    function that finds decision tree using its inner property tree_\n",
    "    \n",
    "    Args: \n",
    "        tree: the decision tree model\n",
    "        features: feature names \n",
    "        \n",
    "    \"\"\"\n",
    "    dt = tree.tree_\n",
    "    \n",
    "    def visitor(node, depth):\n",
    "        \"\"\"\n",
    "        defines a recursive function that goes traverses nodes of the DT keeping track of how far it has gone via depth param\n",
    "        \n",
    "        Args: \n",
    "            node: node of the deicision tree\n",
    "            depth: how far down the decision tree the visitor has travelled\n",
    "        \"\"\"\n",
    "        #indent output with a space and use depth to define number of spaces to put before printing out node currently on\n",
    "        indent = ' ' * depth \n",
    "        \n",
    "        if dt.feature[node] != _tree.TREE_UNDEFINED: #if current node is undefined i.e. not a leaf node\n",
    "            print('{}if <{}> <= {}:'.format(indent, features[node], round(dt.threshold[node], 2))) #prints out 'indent' if 'feature' <= 'DT threshold rounded to 2dp'\n",
    "            visitor(dt.children_left[node], depth +1)#send new visitor to left child node and increase depth by 1\n",
    "            print('{}else: '.format(indent)) #prints out else with an indent\n",
    "            visitor(dt.children_right[node], depth + 1)#send visitor to right child node and increase depth by 1\n",
    "        else: #if its a leaf node\n",
    "            print('{}return {}'.format(indent, dt.value[node]))#prints out whatever the value of leaf node is \n",
    "    visitor(0,1)#set visitor to visit the first node with starting depth of 1\n",
    "        "
   ]
  },
  {
   "cell_type": "code",
   "execution_count": 5,
   "metadata": {},
   "outputs": [
    {
     "name": "stdout",
     "output_type": "stream",
     "text": [
      " if <sepal length (cm)> <= 0.8:\n",
      "  return [[37.  0.  0.]]\n",
      " else: \n",
      "  if <petal length (cm)> <= 4.95:\n",
      "   return [[ 0. 33.  3.]]\n",
      "  else: \n",
      "   return [[ 0.  1. 38.]]\n"
     ]
    }
   ],
   "source": [
    "find_rules(model, iris_data.feature_names)"
   ]
  }
 ],
 "metadata": {
  "kernelspec": {
   "display_name": "Python 3",
   "language": "python",
   "name": "python3"
  },
  "language_info": {
   "codemirror_mode": {
    "name": "ipython",
    "version": 3
   },
   "file_extension": ".py",
   "mimetype": "text/x-python",
   "name": "python",
   "nbconvert_exporter": "python",
   "pygments_lexer": "ipython3",
   "version": "3.6.6"
  }
 },
 "nbformat": 4,
 "nbformat_minor": 2
}
